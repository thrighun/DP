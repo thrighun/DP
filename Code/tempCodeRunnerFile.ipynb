image = cv.imread("../Images/sample 1.tif", cv.IMREAD_GRAYSCALE)
blurred = cv.GaussianBlur(image, (5, 5), 0)
edges = cv.Canny(blurred, 50, 150)

plt.imshow(edges, cmap="gray")
plt.title("Detected Edges")
plt.show()
